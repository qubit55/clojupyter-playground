{
  "nbformat": 4,
  "nbformat_minor": 0,
  "metadata": {
    "colab": {
      "provenance": [],
      "authorship_tag": "ABX9TyMcKftR7gVdaU5bDs8ZdQyX",
      "include_colab_link": true
    },
    "kernelspec": {
      "name": "clojupyter",
      "display_name": "Clojure IPC"
    }
  },
  "cells": [
    {
      "cell_type": "markdown",
      "metadata": {
        "id": "view-in-github",
        "colab_type": "text"
      },
      "source": [
        "<a href=\"https://colab.research.google.com/github/qubit55/clojupyter-playground/blob/main/Copy_of_clojupyter_playground.ipynb\" target=\"_parent\"><img src=\"https://colab.research.google.com/assets/colab-badge.svg\" alt=\"Open In Colab\"/></a>"
      ]
    },
    {
      "cell_type": "code",
      "execution_count": null,
      "metadata": {
        "collapsed": true,
        "id": "cOsSP9mLqxm1"
      },
      "outputs": [],
      "source": [
        "!wget https://raw.githubusercontent.com/qubit55/clojupyter_colab_setup/refs/heads/main/install_clojure_kernel.sh\n",
        "!chmod +x install_clojure_kernel.sh\n",
        "!./install_clojure_kernel.sh"
      ]
    },
    {
      "cell_type": "markdown",
      "source": [
        "Once the installation is complete:\n",
        "\n",
        "    Go to Runtime -> Change runtime type.\n",
        "    In the \"Runtime type\" dropdown, select Clojure IPC.\n",
        "    Wait for the kernel to initialize. The RAM and disk usage chart in the upper-right corner will confirm when it’s ready.\n"
      ],
      "metadata": {
        "id": "yOP5dAN943Ci"
      }
    },
    {
      "cell_type": "code",
      "source": [
        "(require '[clojupyter.misc.helper :as helper])\n",
        "(require '[clojupyter.display :as display])"
      ],
      "metadata": {
        "colab": {
          "base_uri": "https://localhost:8080/"
        },
        "id": "DUiDzk98qydp",
        "outputId": "80107a1b-7a55-4300-9b79-39a90f251cbf"
      },
      "execution_count": null,
      "outputs": [
        {
          "output_type": "execute_result",
          "data": {
            "text/plain": [
              "nil"
            ]
          },
          "metadata": {},
          "execution_count": 56
        }
      ]
    },
    {
      "cell_type": "code",
      "source": [
        "(helper/add-dependencies '[org.scicloj/tableplot \"1-beta9.1\"])\n",
        "(helper/add-dependencies '[scicloj/tablecloth \"7.029.2\"])\n",
        "(helper/add-dependencies '[incanter \"1.5.7\"])\n",
        "(helper/add-dependencies '[cheshire \"5.13.0\"])\n",
        "(helper/add-dependencies '[hiccup \"2.0.0-RC4\"])\n",
        "(helper/add-dependencies '[aerial.hanami \"0.15.1\"])"
      ],
      "metadata": {
        "colab": {
          "base_uri": "https://localhost:8080/",
          "height": 1000
        },
        "collapsed": true,
        "id": "vypMV4xOuyF_",
        "outputId": "fd31811e-55e3-4c48-cd81-bfe085016d69"
      },
      "execution_count": null,
      "outputs": [
        {
          "output_type": "execute_result",
          "data": {
            "text/html": [
              "<div class=\"kind-map\"><div style=\"border:1px solid grey;padding:2px;\"><div class=\"kind-vector\"><div style=\"border:1px solid grey;padding:2px;\">com.fasterxml.jackson.core/jackson-core</div><div style=\"border:1px solid grey;padding:2px;\">2.8.7</div></div></div><div style=\"border:1px solid grey;padding:2px;\"></div><div style=\"border:1px solid grey;padding:2px;\"><div class=\"kind-vector\"><div style=\"border:1px solid grey;padding:2px;\">org.clojure/tools.analyzer</div><div style=\"border:1px solid grey;padding:2px;\">1.1.0</div></div></div><div style=\"border:1px solid grey;padding:2px;\"></div><div style=\"border:1px solid grey;padding:2px;\"><div class=\"kind-vector\"><div style=\"border:1px solid grey;padding:2px;\">org.checkerframework/checker-qual</div><div style=\"border:1px solid grey;padding:2px;\">2.0.0</div></div></div><div style=\"border:1px solid grey;padding:2px;\"></div><div style=\"border:1px solid grey;padding:2px;\"><div class=\"kind-vector\"><div style=\"border:1px solid grey;padding:2px;\">org.msgpack/msgpack</div><div style=\"border:1px solid grey;padding:2px;\">0.6.12</div></div></div><div style=\"border:1px solid grey;padding:2px;\"><div class=\"kind-set\"><div style=\"border:1px solid grey;padding:2px;\"><div class=\"kind-vector\"><div style=\"border:1px solid grey;padding:2px;\">com.googlecode.json-simple/json-simple</div><div style=\"border:1px solid grey;padding:2px;\">1.1.1</div><div style=\"border:1px solid grey;padding:2px;\">:exclusions</div><div style=\"border:1px solid grey;padding:2px;\"><div class=\"kind-vector\"><div style=\"border:1px solid grey;padding:2px;\"><div class=\"kind-vector\"><div style=\"border:1px solid grey;padding:2px;\">junit</div></div></div></div></div></div></div><div style=\"border:1px solid grey;padding:2px;\"><div class=\"kind-vector\"><div style=\"border:1px solid grey;padding:2px;\">org.javassist/javassist</div><div style=\"border:1px solid grey;padding:2px;\">3.18.1-GA</div></div></div></div></div><div style=\"border:1px solid grey;padding:2px;\"><div class=\"kind-vector\"><div style=\"border:1px solid grey;padding:2px;\">http-kit</div><div style=\"border:1px solid grey;padding:2px;\">2.5.3</div></div></div><div style=\"border:1px solid grey;padding:2px;\"></div><div style=\"border:1px solid grey;padding:2px;\"><div class=\"kind-vector\"><div style=\"border:1px solid grey;padding:2px;\">instaparse</div><div style=\"border:1px solid grey;padding:2px;\">1.4.8</div><div style=\"border:1px solid grey;padding:2px;\">:exclusions</div><div style=\"border:1px solid grey;padding:2px;\"><div class=\"kind-vector\"><div style=\"border:1px solid grey;padding:2px;\"><div class=\"kind-vector\"><div style=\"border:1px solid grey;padding:2px;\">org.clojure/clojure</div></div></div></div></div></div></div><div style=\"border:1px solid grey;padding:2px;\"></div><div style=\"border:1px solid grey;padding:2px;\"><div class=\"kind-vector\"><div style=\"border:1px solid grey;padding:2px;\">org.clojure/tools.macro</div><div style=\"border:1px solid grey;padding:2px;\">0.1.5</div></div></div><div style=\"border:1px solid grey;padding:2px;\"></div><div style=\"border:1px solid grey;padding:2px;\"><div class=\"kind-vector\"><div style=\"border:1px solid grey;padding:2px;\">bk/ring-gzip</div><div style=\"border:1px solid grey;padding:2px;\">0.3.0</div></div></div><div style=\"border:1px solid grey;padding:2px;\"></div><div style=\"border:1px solid grey;padding:2px;\"><div class=\"kind-vector\"><div style=\"border:1px solid grey;padding:2px;\">org.clojure/google-closure-library</div><div style=\"border:1px solid grey;padding:2px;\">0.0-20170809-b9c14c6b</div></div></div><div style=\"border:1px solid grey;padding:2px;\"><div class=\"kind-set\"><div style=\"border:1px solid grey;padding:2px;\"><div class=\"kind-vector\"><div style=\"border:1px solid grey;padding:2px;\">org.clojure/google-closure-library-third-party</div><div style=\"border:1px solid grey;padding:2px;\">0.0-20170809-b9c14c6b</div></div></div></div></div><div style=\"border:1px solid grey;padding:2px;\"><div class=\"kind-vector\"><div style=\"border:1px solid grey;padding:2px;\">aerial.hanami</div><div style=\"border:1px solid grey;padding:2px;\">0.15.1</div></div></div><div style=\"border:1px solid grey;padding:2px;\"><div class=\"kind-set\"><div style=\"border:1px solid grey;padding:2px;\"><div class=\"kind-vector\"><div style=\"border:1px solid grey;padding:2px;\">bk/ring-gzip</div><div style=\"border:1px solid grey;padding:2px;\">0.3.0</div></div></div><div style=\"border:1px solid grey;padding:2px;\"><div class=\"kind-vector\"><div style=\"border:1px solid grey;padding:2px;\">com.rpl/specter</div><div style=\"border:1px solid grey;padding:2px;\">1.1.3</div></div></div><div style=\"border:1px solid grey;padding:2px;\"><div class=\"kind-vector\"><div style=\"border:1px solid grey;padding:2px;\">cljsjs/vega</div><div style=\"border:1px solid grey;padding:2px;\">5.20.2-0</div></div></div><div style=\"border:1px solid grey;padding:2px;\"><div class=\"kind-vector\"><div style=\"border:1px solid grey;padding:2px;\">ring/ring-defaults</div><div style=\"border:1px solid grey;padding:2px;\">0.3.3</div></div></div><div style=\"border:1px solid grey;padding:2px;\"><div class=\"kind-vector\"><div style=\"border:1px solid grey;padding:2px;\">org.clojure/core.async</div><div style=\"border:1px solid grey;padding:2px;\">1.4.627</div></div></div><div style=\"border:1px solid grey;padding:2px;\"><div class=\"kind-vector\"><div style=\"border:1px solid grey;padding:2px;\">cljsjs/vega-lite</div><div style=\"border:1px solid grey;padding:2px;\">5.1.1-0</div></div></div><div style=\"border:1px solid grey;padding:2px;\"><div class=\"kind-vector\"><div style=\"border:1px solid grey;padding:2px;\">org.clojure/data.csv</div><div style=\"border:1px solid grey;padding:2px;\">1.0.0</div></div></div><div style=\"border:1px solid grey;padding:2px;\"><div class=\"kind-vector\"><div style=\"border:1px solid grey;padding:2px;\">cljsjs/vega-tooltip</div><div style=\"border:1px solid grey;padding:2px;\">0.27.0-0</div></div></div><div style=\"border:1px solid grey;padding:2px;\"><div class=\"kind-vector\"><div style=\"border:1px solid grey;padding:2px;\">org.clojure/clojure</div><div style=\"border:1px solid grey;padding:2px;\">1.10.3</div></div></div><div style=\"border:1px solid grey;padding:2px;\"><div class=\"kind-vector\"><div style=\"border:1px solid grey;padding:2px;\">aerial.hanasu</div><div style=\"border:1px solid grey;padding:2px;\">0.2.7</div></div></div><div style=\"border:1px solid grey;padding:2px;\"><div class=\"kind-vector\"><div style=\"border:1px solid grey;padding:2px;\">com.andrewmcveigh/cljs-time</div><div style=\"border:1px solid grey;padding:2px;\">0.5.2</div></div></div><div style=\"border:1px solid grey;padding:2px;\"><div class=\"kind-vector\"><div style=\"border:1px solid grey;padding:2px;\">ring-cljsjs</div><div style=\"border:1px solid grey;padding:2px;\">0.2.0</div></div></div><div style=\"border:1px solid grey;padding:2px;\"><div class=\"kind-vector\"><div style=\"border:1px solid grey;padding:2px;\">re-com</div><div style=\"border:1px solid grey;padding:2px;\">2.13.2</div></div></div><div style=\"border:1px solid grey;padding:2px;\"><div class=\"kind-vector\"><div style=\"border:1px solid grey;padding:2px;\">reagent</div><div style=\"border:1px solid grey;padding:2px;\">0.10.0</div></div></div><div style=\"border:1px solid grey;padding:2px;\"><div class=\"kind-vector\"><div style=\"border:1px solid grey;padding:2px;\">org.clojure/clojurescript</div><div style=\"border:1px solid grey;padding:2px;\">1.10.439</div></div></div><div style=\"border:1px solid grey;padding:2px;\"><div class=\"kind-vector\"><div style=\"border:1px solid grey;padding:2px;\">cljsjs/vega-embed</div><div style=\"border:1px solid grey;padding:2px;\">6.19.0-0</div></div></div></div></div><div style=\"border:1px solid grey;padding:2px;\"><div class=\"kind-vector\"><div style=\"border:1px solid grey;padding:2px;\">org.slf4j/slf4j-api</div><div style=\"border:1px solid grey;padding:2px;\">1.7.12</div></div></div><div style=\"border:1px solid grey;padding:2px;\"></div><div style=\"border:1px solid grey;padding:2px;\"><div class=\"kind-vector\"><div style=\"border:1px solid grey;padding:2px;\">org.clojure/data.priority-map</div><div style=\"border:1px solid grey;padding:2px;\">1.0.0</div></div></div><div style=\"border:1px solid grey;padding:2px;\"></div><div style=\"border:1px solid grey;padding:2px;\"><div class=\"kind-vector\"><div style=\"border:1px solid grey;padding:2px;\">com.google.code.gson/gson</div><div style=\"border:1px solid grey;padding:2px;\">2.7</div></div></div><div style=\"border:1px solid grey;padding:2px;\"></div><div style=\"border:1px solid grey;padding:2px;\"><div class=\"kind-vector\"><div style=\"border:1px solid grey;padding:2px;\">ring/ring-headers</div><div style=\"border:1px solid grey;padding:2px;\">0.3.0</div></div></div><div style=\"border:1px solid grey;padding:2px;\"></div><div style=\"border:1px solid grey;padding:2px;\"><div class=\"kind-vector\"><div style=\"border:1px solid grey;padding:2px;\">com.ning/async-http-client</div><div style=\"border:1px solid grey;padding:2px;\">1.9.39</div></div></div><div style=\"border:1px solid grey;padding:2px;\"><div class=\"kind-set\"><div style=\"border:1px solid grey;padding:2px;\"><div class=\"kind-vector\"><div style=\"border:1px solid grey;padding:2px;\">org.slf4j/slf4j-api</div><div style=\"border:1px solid grey;padding:2px;\">1.7.12</div></div></div><div style=\"border:1px solid grey;padding:2px;\"><div class=\"kind-vector\"><div style=\"border:1px solid grey;padding:2px;\">io.netty/netty</div><div style=\"border:1px solid grey;padding:2px;\">3.10.5.Final</div></div></div></div></div><div style=\"border:1px solid grey;padding:2px;\"><div class=\"kind-vector\"><div style=\"border:1px solid grey;padding:2px;\">javax.xml.bind/jaxb-api</div><div style=\"border:1px solid grey;padding:2px;\">2.3.0</div></div></div><div style=\"border:1px solid grey;padding:2px;\"></div><div style=\"border:1px solid grey;padding:2px;\"><div class=\"kind-vector\"><div style=\"border:1px solid grey;padding:2px;\">org.codehaus.mojo/animal-sniffer-annotations</div><div style=\"border:1px solid grey;padding:2px;\">1.14</div></div></div><div style=\"border:1px solid grey;padding:2px;\"></div><div style=\"border:1px solid grey;padding:2px;\"><div class=\"kind-vector\"><div style=\"border:1px solid grey;padding:2px;\">com.google.errorprone/error_prone_annotations</div><div style=\"border:1px solid grey;padding:2px;\">2.0.18</div></div></div><div style=\"border:1px solid grey;padding:2px;\"></div><div style=\"border:1px solid grey;padding:2px;\"><div class=\"kind-vector\"><div style=\"border:1px solid grey;padding:2px;\">com.rpl/specter</div><div style=\"border:1px solid grey;padding:2px;\">1.1.3</div></div></div><div style=\"border:1px solid grey;padding:2px;\"><div class=\"kind-set\"><div style=\"border:1px solid grey;padding:2px;\"><div class=\"kind-vector\"><div style=\"border:1px solid grey;padding:2px;\">riddley</div><div style=\"border:1px solid grey;padding:2px;\">0.1.12</div></div></div></div></div><div style=\"border:1px solid grey;padding:2px;\"><div class=\"kind-vector\"><div style=\"border:1px solid grey;padding:2px;\">ring/ring-ssl</div><div style=\"border:1px solid grey;padding:2px;\">0.3.0</div></div></div><div style=\"border:1px solid grey;padding:2px;\"></div><div style=\"border:1px solid grey;padding:2px;\"><div class=\"kind-vector\"><div style=\"border:1px solid grey;padding:2px;\">cljsjs/vega</div><div style=\"border:1px solid grey;padding:2px;\">5.20.2-0</div></div></div><div style=\"border:1px solid grey;padding:2px;\"></div><div style=\"border:1px solid grey;padding:2px;\"><div class=\"kind-vector\"><div style=\"border:1px solid grey;padding:2px;\">com.google.code.findbugs/jsr305</div><div style=\"border:1px solid grey;padding:2px;\">3.0.1</div></div></div><div style=\"border:1px solid grey;padding:2px;\"></div><div style=\"border:1px solid grey;padding:2px;\"><div class=\"kind-vector\"><div style=\"border:1px solid grey;padding:2px;\">clojure-msgpack</div><div style=\"border:1px solid grey;padding:2px;\">1.2.1</div></div></div><div style=\"border:1px solid grey;padding:2px;\"></div><div style=\"border:1px solid grey;padding:2px;\"><div class=\"kind-vector\"><div style=\"border:1px solid grey;padding:2px;\">ring/ring-defaults</div><div style=\"border:1px solid grey;padding:2px;\">0.3.3</div></div></div><div style=\"border:1px solid grey;padding:2px;\"><div class=\"kind-set\"><div style=\"border:1px solid grey;padding:2px;\"><div class=\"kind-vector\"><div style=\"border:1px solid grey;padding:2px;\">ring/ring-headers</div><div style=\"border:1px solid grey;padding:2px;\">0.3.0</div></div></div><div style=\"border:1px solid grey;padding:2px;\"><div class=\"kind-vector\"><div style=\"border:1px solid grey;padding:2px;\">ring/ring-ssl</div><div style=\"border:1px solid grey;padding:2px;\">0.3.0</div></div></div><div style=\"border:1px solid grey;padding:2px;\"><div class=\"kind-vector\"><div style=\"border:1px solid grey;padding:2px;\">ring/ring-core</div><div style=\"border:1px solid grey;padding:2px;\">1.9.3</div></div></div><div style=\"border:1px solid grey;padding:2px;\"><div class=\"kind-vector\"><div style=\"border:1px solid grey;padding:2px;\">javax.servlet/javax.servlet-api</div><div style=\"border:1px solid grey;padding:2px;\">3.1.0</div></div></div><div style=\"border:1px solid grey;padding:2px;\"><div class=\"kind-vector\"><div style=\"border:1px solid grey;padding:2px;\">ring/ring-anti-forgery</div><div style=\"border:1px solid grey;padding:2px;\">1.3.0</div></div></div></div></div><div style=\"border:1px solid grey;padding:2px;\"><div class=\"kind-vector\"><div style=\"border:1px solid grey;padding:2px;\">com.google.jsinterop/jsinterop-annotations</div><div style=\"border:1px solid grey;padding:2px;\">1.0.0</div></div></div><div style=\"border:1px solid grey;padding:2px;\"></div><div style=\"border:1px solid grey;padding:2px;\"><div class=\"kind-vector\"><div style=\"border:1px solid grey;padding:2px;\">org.clojure/core.async</div><div style=\"border:1px solid grey;padding:2px;\">1.4.627</div></div></div><div style=\"border:1px solid grey;padding:2px;\"><div class=\"kind-set\"><div style=\"border:1px solid grey;padding:2px;\"><div class=\"kind-vector\"><div style=\"border:1px solid grey;padding:2px;\">org.clojure/tools.analyzer.jvm</div><div style=\"border:1px solid grey;padding:2px;\">1.2.0</div></div></div></div></div><div style=\"border:1px solid grey;padding:2px;\"><div class=\"kind-vector\"><div style=\"border:1px solid grey;padding:2px;\">cljsjs/vega-lite</div><div style=\"border:1px solid grey;padding:2px;\">5.1.1-0</div></div></div><div style=\"border:1px solid grey;padding:2px;\"></div><div style=\"border:1px solid grey;padding:2px;\"><div class=\"kind-vector\"><div style=\"border:1px solid grey;padding:2px;\">args4j</div><div style=\"border:1px solid grey;padding:2px;\">2.0.26</div></div></div><div style=\"border:1px solid grey;padding:2px;\"></div><div style=\"border:1px solid grey;padding:2px;\"><div class=\"kind-vector\"><div style=\"border:1px solid grey;padding:2px;\">commons-io</div><div style=\"border:1px solid grey;padding:2px;\">2.6</div></div></div><div style=\"border:1px solid grey;padding:2px;\"></div><div style=\"border:1px solid grey;padding:2px;\"><div class=\"kind-vector\"><div style=\"border:1px solid grey;padding:2px;\">org.ow2.asm/asm</div><div style=\"border:1px solid grey;padding:2px;\">5.2</div></div></div><div style=\"border:1px solid grey;padding:2px;\"></div><div style=\"border:1px solid grey;padding:2px;\"><div class=\"kind-vector\"><div style=\"border:1px solid grey;padding:2px;\">com.google.javascript/closure-compiler-externs</div><div style=\"border:1px solid grey;padding:2px;\">v20180805</div></div></div><div style=\"border:1px solid grey;padding:2px;\"></div><div style=\"border:1px solid grey;padding:2px;\"><div class=\"kind-vector\"><div style=\"border:1px solid grey;padding:2px;\">haslett</div><div style=\"border:1px solid grey;padding:2px;\">0.1.6</div></div></div><div style=\"border:1px solid grey;padding:2px;\"><div class=\"kind-set\"><div style=\"border:1px solid grey;padding:2px;\"><div class=\"kind-vector\"><div style=\"border:1px solid grey;padding:2px;\">com.cognitect/transit-cljs</div><div style=\"border:1px solid grey;padding:2px;\">0.8.256</div></div></div></div></div><div style=\"border:1px solid grey;padding:2px;\"><div class=\"kind-vector\"><div style=\"border:1px solid grey;padding:2px;\">org.clojure/tools.reader</div><div style=\"border:1px solid grey;padding:2px;\">1.3.0</div></div></div><div style=\"border:1px solid grey;padding:2px;\"></div><div style=\"border:1px solid grey;padding:2px;\"><div class=\"kind-vector\"><div style=\"border:1px solid grey;padding:2px;\">org.clojure/data.csv</div><div style=\"border:1px solid grey;padding:2px;\">1.0.0</div></div></div><div style=\"border:1px solid grey;padding:2px;\"></div><div style=\"border:1px solid grey;padding:2px;\"><div class=\"kind-vector\"><div style=\"border:1px solid grey;padding:2px;\">ring/ring-codec</div><div style=\"border:1px solid grey;padding:2px;\">1.1.3</div></div></div><div style=\"border:1px solid grey;padding:2px;\"></div><div style=\"border:1px solid grey;padding:2px;\"><div class=\"kind-vector\"><div style=\"border:1px solid grey;padding:2px;\">crypto-equality</div><div style=\"border:1px solid grey;padding:2px;\">1.0.0</div></div></div><div style=\"border:1px solid grey;padding:2px;\"></div><div style=\"border:1px solid grey;padding:2px;\"><div class=\"kind-vector\"><div style=\"border:1px solid grey;padding:2px;\">compojure</div><div style=\"border:1px solid grey;padding:2px;\">1.6.2</div></div></div><div style=\"border:1px solid grey;padding:2px;\"><div class=\"kind-set\"><div style=\"border:1px solid grey;padding:2px;\"><div class=\"kind-vector\"><div style=\"border:1px solid grey;padding:2px;\">org.clojure/tools.macro</div><div style=\"border:1px solid grey;padding:2px;\">0.1.5</div></div></div><div style=\"border:1px solid grey;padding:2px;\"><div class=\"kind-vector\"><div style=\"border:1px solid grey;padding:2px;\">clout</div><div style=\"border:1px solid grey;padding:2px;\">2.2.1</div></div></div><div style=\"border:1px solid grey;padding:2px;\"><div class=\"kind-vector\"><div style=\"border:1px solid grey;padding:2px;\">medley</div><div style=\"border:1px solid grey;padding:2px;\">1.3.0</div></div></div></div></div><div style=\"border:1px solid grey;padding:2px;\"><div class=\"kind-vector\"><div style=\"border:1px solid grey;padding:2px;\">cljsjs/vega-tooltip</div><div style=\"border:1px solid grey;padding:2px;\">0.27.0-0</div></div></div><div style=\"border:1px solid grey;padding:2px;\"></div><div style=\"border:1px solid grey;padding:2px;\"><div class=\"kind-vector\"><div style=\"border:1px solid grey;padding:2px;\">com.google.javascript/closure-compiler-unshaded</div><div style=\"border:1px solid grey;padding:2px;\">v20180805</div></div></div><div style=\"border:1px solid grey;padding:2px;\"><div class=\"kind-set\"><div style=\"border:1px solid grey;padding:2px;\"><div class=\"kind-vector\"><div style=\"border:1px solid grey;padding:2px;\">com.google.code.gson/gson</div><div style=\"border:1px solid grey;padding:2px;\">2.7</div></div></div><div style=\"border:1px solid grey;padding:2px;\"><div class=\"kind-vector\"><div style=\"border:1px solid grey;padding:2px;\">com.google.errorprone/error_prone_annotations</div><div style=\"border:1px solid grey;padding:2px;\">2.0.18</div></div></div><div style=\"border:1px solid grey;padding:2px;\"><div class=\"kind-vector\"><div style=\"border:1px solid grey;padding:2px;\">com.google.code.findbugs/jsr305</div><div style=\"border:1px solid grey;padding:2px;\">3.0.1</div></div></div><div style=\"border:1px solid grey;padding:2px;\"><div class=\"kind-vector\"><div style=\"border:1px solid grey;padding:2px;\">com.google.jsinterop/jsinterop-annotations</div><div style=\"border:1px solid grey;padding:2px;\">1.0.0</div></div></div><div style=\"border:1px solid grey;padding:2px;\"><div class=\"kind-vector\"><div style=\"border:1px solid grey;padding:2px;\">args4j</div><div style=\"border:1px solid grey;padding:2px;\">2.0.26</div></div></div><div style=\"border:1px solid grey;padding:2px;\"><div class=\"kind-vector\"><div style=\"border:1px solid grey;padding:2px;\">com.google.javascript/closure-compiler-externs</div><div style=\"border:1px solid grey;padding:2px;\">v20180805</div></div></div><div style=\"border:1px solid grey;padding:2px;\"><div class=\"kind-vector\"><div style=\"border:1px solid grey;padding:2px;\">com.google.protobuf/protobuf-java</div><div style=\"border:1px solid grey;padding:2px;\">3.0.2</div></div></div><div style=\"border:1px solid grey;padding:2px;\"><div class=\"kind-vector\"><div style=\"border:1px solid grey;padding:2px;\">com.google.guava/guava</div><div style=\"border:1px solid grey;padding:2px;\">25.1-jre</div></div></div></div></div><div style=\"border:1px solid grey;padding:2px;\"><div class=\"kind-vector\"><div style=\"border:1px solid grey;padding:2px;\">com.cognitect/transit-js</div><div style=\"border:1px solid grey;padding:2px;\">0.8.846</div></div></div><div style=\"border:1px solid grey;padding:2px;\"></div><div style=\"border:1px solid grey;padding:2px;\"><div class=\"kind-vector\"><div style=\"border:1px solid grey;padding:2px;\">com.google.j2objc/j2objc-annotations</div><div style=\"border:1px solid grey;padding:2px;\">1.1</div></div></div><div style=\"border:1px solid grey;padding:2px;\"></div><div style=\"border:1px solid grey;padding:2px;\"><div class=\"kind-vector\"><div style=\"border:1px solid grey;padding:2px;\">org.clojure/clojure</div><div style=\"border:1px solid grey;padding:2px;\">1.10.3</div></div></div><div style=\"border:1px solid grey;padding:2px;\"><div class=\"kind-set\"><div style=\"border:1px solid grey;padding:2px;\"><div class=\"kind-vector\"><div style=\"border:1px solid grey;padding:2px;\">org.clojure/spec.alpha</div><div style=\"border:1px solid grey;padding:2px;\">0.2.194</div></div></div><div style=\"border:1px solid grey;padding:2px;\"><div class=\"kind-vector\"><div style=\"border:1px solid grey;padding:2px;\">org.clojure/core.specs.alpha</div><div style=\"border:1px solid grey;padding:2px;\">0.2.56</div></div></div></div></div><div style=\"border:1px solid grey;padding:2px;\"><div class=\"kind-vector\"><div style=\"border:1px solid grey;padding:2px;\">org.clojure/google-closure-library-third-party</div><div style=\"border:1px solid grey;padding:2px;\">0.0-20170809-b9c14c6b</div></div></div><div style=\"border:1px solid grey;padding:2px;\"></div><div style=\"border:1px solid grey;padding:2px;\"><div class=\"kind-vector\"><div style=\"border:1px solid grey;padding:2px;\">io.netty/netty</div><div style=\"border:1px solid grey;padding:2px;\">3.10.5.Final</div></div></div><div style=\"border:1px solid grey;padding:2px;\"></div><div style=\"border:1px solid grey;padding:2px;\"><div class=\"kind-vector\"><div style=\"border:1px solid grey;padding:2px;\">com.googlecode.json-simple/json-simple</div><div style=\"border:1px solid grey;padding:2px;\">1.1.1</div><div style=\"border:1px solid grey;padding:2px;\">:exclusions</div><div style=\"border:1px solid grey;padding:2px;\"><div class=\"kind-vector\"><div style=\"border:1px solid grey;padding:2px;\"><div class=\"kind-vector\"><div style=\"border:1px solid grey;padding:2px;\">junit</div></div></div></div></div></div></div><div style=\"border:1px solid grey;padding:2px;\"></div><div style=\"border:1px solid grey;padding:2px;\"><div class=\"kind-vector\"><div style=\"border:1px solid grey;padding:2px;\">org.clojure/core.cache</div><div style=\"border:1px solid grey;padding:2px;\">1.0.207</div></div></div><div style=\"border:1px solid grey;padding:2px;\"><div class=\"kind-set\"><div style=\"border:1px solid grey;padding:2px;\"><div class=\"kind-vector\"><div style=\"border:1px solid grey;padding:2px;\">org.clojure/data.priority-map</div><div style=\"border:1px solid grey;padding:2px;\">1.0.0</div></div></div></div></div><div style=\"border:1px solid grey;padding:2px;\"><div class=\"kind-vector\"><div style=\"border:1px solid grey;padding:2px;\">hiccup</div><div style=\"border:1px solid grey;padding:2px;\">1.0.5</div></div></div><div style=\"border:1px solid grey;padding:2px;\"></div><div style=\"border:1px solid grey;padding:2px;\"><div class=\"kind-vector\"><div style=\"border:1px solid grey;padding:2px;\">ring/ring-core</div><div style=\"border:1px solid grey;padding:2px;\">1.9.3</div></div></div><div style=\"border:1px solid grey;padding:2px;\"><div class=\"kind-set\"><div style=\"border:1px solid grey;padding:2px;\"><div class=\"kind-vector\"><div style=\"border:1px solid grey;padding:2px;\">commons-io</div><div style=\"border:1px solid grey;padding:2px;\">2.6</div></div></div><div style=\"border:1px solid grey;padding:2px;\"><div class=\"kind-vector\"><div style=\"border:1px solid grey;padding:2px;\">ring/ring-codec</div><div style=\"border:1px solid grey;padding:2px;\">1.1.3</div></div></div><div style=\"border:1px solid grey;padding:2px;\"><div class=\"kind-vector\"><div style=\"border:1px solid grey;padding:2px;\">crypto-equality</div><div style=\"border:1px solid grey;padding:2px;\">1.0.0</div></div></div><div style=\"border:1px solid grey;padding:2px;\"><div class=\"kind-vector\"><div style=\"border:1px solid grey;padding:2px;\">crypto-random</div><div style=\"border:1px solid grey;padding:2px;\">1.2.0</div></div></div><div style=\"border:1px solid grey;padding:2px;\"><div class=\"kind-vector\"><div style=\"border:1px solid grey;padding:2px;\">commons-fileupload</div><div style=\"border:1px solid grey;padding:2px;\">1.4</div></div></div></div></div><div style=\"border:1px solid grey;padding:2px;\"><div class=\"kind-vector\"><div style=\"border:1px solid grey;padding:2px;\">aerial.hanasu</div><div style=\"border:1px solid grey;padding:2px;\">0.2.7</div></div></div><div style=\"border:1px solid grey;padding:2px;\"><div class=\"kind-set\"><div style=\"border:1px solid grey;padding:2px;\"><div class=\"kind-vector\"><div style=\"border:1px solid grey;padding:2px;\">http-kit</div><div style=\"border:1px solid grey;padding:2px;\">2.5.3</div></div></div><div style=\"border:1px solid grey;padding:2px;\"><div class=\"kind-vector\"><div style=\"border:1px solid grey;padding:2px;\">javax.xml.bind/jaxb-api</div><div style=\"border:1px solid grey;padding:2px;\">2.3.0</div></div></div><div style=\"border:1px solid grey;padding:2px;\"><div class=\"kind-vector\"><div style=\"border:1px solid grey;padding:2px;\">clojure-msgpack</div><div style=\"border:1px solid grey;padding:2px;\">1.2.1</div></div></div><div style=\"border:1px solid grey;padding:2px;\"><div class=\"kind-vector\"><div style=\"border:1px solid grey;padding:2px;\">haslett</div><div style=\"border:1px solid grey;padding:2px;\">0.1.6</div></div></div><div style=\"border:1px solid grey;padding:2px;\"><div class=\"kind-vector\"><div style=\"border:1px solid grey;padding:2px;\">compojure</div><div style=\"border:1px solid grey;padding:2px;\">1.6.2</div></div></div><div style=\"border:1px solid grey;padding:2px;\"><div class=\"kind-vector\"><div style=\"border:1px solid grey;padding:2px;\">http.async.client</div><div style=\"border:1px solid grey;padding:2px;\">1.2.0</div></div></div></div></div><div style=\"border:1px solid grey;padding:2px;\"><div class=\"kind-vector\"><div style=\"border:1px solid grey;padding:2px;\">clout</div><div style=\"border:1px solid grey;padding:2px;\">2.2.1</div></div></div><div style=\"border:1px solid grey;padding:2px;\"><div class=\"kind-set\"><div style=\"border:1px solid grey;padding:2px;\"><div class=\"kind-vector\"><div style=\"border:1px solid grey;padding:2px;\">instaparse</div><div style=\"border:1px solid grey;padding:2px;\">1.4.8</div><div style=\"border:1px solid grey;padding:2px;\">:exclusions</div><div style=\"border:1px solid grey;padding:2px;\"><div class=\"kind-vector\"><div style=\"border:1px solid grey;padding:2px;\"><div class=\"kind-vector\"><div style=\"border:1px solid grey;padding:2px;\">org.clojure/clojure</div></div></div></div></div></div></div></div></div><div style=\"border:1px solid grey;padding:2px;\"><div class=\"kind-vector\"><div style=\"border:1px solid grey;padding:2px;\">org.clojure/spec.alpha</div><div style=\"border:1px solid grey;padding:2px;\">0.2.194</div></div></div><div style=\"border:1px solid grey;padding:2px;\"></div><div style=\"border:1px solid grey;padding:2px;\"><div class=\"kind-vector\"><div style=\"border:1px solid grey;padding:2px;\">org.clojure/tools.logging</div><div style=\"border:1px solid grey;padding:2px;\">0.3.1</div></div></div><div style=\"border:1px solid grey;padding:2px;\"></div><div style=\"border:1px solid grey;padding:2px;\"><div class=\"kind-vector\"><div style=\"border:1px solid grey;padding:2px;\">org.clojure/core.memoize</div><div style=\"border:1px solid grey;padding:2px;\">1.0.236</div></div></div><div style=\"border:1px solid grey;padding:2px;\"><div class=\"kind-set\"><div style=\"border:1px solid grey;padding:2px;\"><div class=\"kind-vector\"><div style=\"border:1px solid grey;padding:2px;\">org.clojure/core.cache</div><div style=\"border:1px solid grey;padding:2px;\">1.0.207</div></div></div></div></div><div style=\"border:1px solid grey;padding:2px;\"><div class=\"kind-vector\"><div style=\"border:1px solid grey;padding:2px;\">com.google.protobuf/protobuf-java</div><div style=\"border:1px solid grey;padding:2px;\">3.0.2</div></div></div><div style=\"border:1px solid grey;padding:2px;\"></div><div style=\"border:1px solid grey;padding:2px;\"><div class=\"kind-vector\"><div style=\"border:1px solid grey;padding:2px;\">org.clojure/tools.analyzer.jvm</div><div style=\"border:1px solid grey;padding:2px;\">1.2.0</div></div></div><div style=\"border:1px solid grey;padding:2px;\"><div class=\"kind-set\"><div style=\"border:1px solid grey;padding:2px;\"><div class=\"kind-vector\"><div style=\"border:1px solid grey;padding:2px;\">org.clojure/tools.analyzer</div><div style=\"border:1px solid grey;padding:2px;\">1.1.0</div></div></div><div style=\"border:1px solid grey;padding:2px;\"><div class=\"kind-vector\"><div style=\"border:1px solid grey;padding:2px;\">org.ow2.asm/asm</div><div style=\"border:1px solid grey;padding:2px;\">5.2</div></div></div><div style=\"border:1px solid grey;padding:2px;\"><div class=\"kind-vector\"><div style=\"border:1px solid grey;padding:2px;\">org.clojure/core.memoize</div><div style=\"border:1px solid grey;padding:2px;\">1.0.236</div></div></div></div></div><div style=\"border:1px solid grey;padding:2px;\"><div class=\"kind-vector\"><div style=\"border:1px solid grey;padding:2px;\">org.clojure/core.specs.alpha</div><div style=\"border:1px solid grey;padding:2px;\">0.2.56</div></div></div><div style=\"border:1px solid grey;padding:2px;\"></div><div style=\"border:1px solid grey;padding:2px;\"><div class=\"kind-vector\"><div style=\"border:1px solid grey;padding:2px;\">org.clojure/data.json</div><div style=\"border:1px solid grey;padding:2px;\">0.2.6</div></div></div><div style=\"border:1px solid grey;padding:2px;\"></div><div style=\"border:1px solid grey;padding:2px;\"><div class=\"kind-vector\"><div style=\"border:1px solid grey;padding:2px;\">com.cognitect/transit-java</div><div style=\"border:1px solid grey;padding:2px;\">0.8.332</div></div></div><div style=\"border:1px solid grey;padding:2px;\"><div class=\"kind-set\"><div style=\"border:1px solid grey;padding:2px;\"><div class=\"kind-vector\"><div style=\"border:1px solid grey;padding:2px;\">com.fasterxml.jackson.core/jackson-core</div><div style=\"border:1px solid grey;padding:2px;\">2.8.7</div></div></div><div style=\"border:1px solid grey;padding:2px;\"><div class=\"kind-vector\"><div style=\"border:1px solid grey;padding:2px;\">org.msgpack/msgpack</div><div style=\"border:1px solid grey;padding:2px;\">0.6.12</div></div></div><div style=\"border:1px solid grey;padding:2px;\"><div class=\"kind-vector\"><div style=\"border:1px solid grey;padding:2px;\">commons-codec</div><div style=\"border:1px solid grey;padding:2px;\">1.10</div></div></div></div></div><div style=\"border:1px solid grey;padding:2px;\"><div class=\"kind-vector\"><div style=\"border:1px solid grey;padding:2px;\">com.cognitect/transit-clj</div><div style=\"border:1px solid grey;padding:2px;\">0.8.309</div><div style=\"border:1px solid grey;padding:2px;\">:exclusions</div><div style=\"border:1px solid grey;padding:2px;\"><div class=\"kind-vector\"><div style=\"border:1px solid grey;padding:2px;\"><div class=\"kind-vector\"><div style=\"border:1px solid grey;padding:2px;\">org.clojure/clojure</div></div></div></div></div></div></div><div style=\"border:1px solid grey;padding:2px;\"><div class=\"kind-set\"><div style=\"border:1px solid grey;padding:2px;\"><div class=\"kind-vector\"><div style=\"border:1px solid grey;padding:2px;\">com.cognitect/transit-java</div><div style=\"border:1px solid grey;padding:2px;\">0.8.332</div></div></div></div></div><div style=\"border:1px solid grey;padding:2px;\"><div class=\"kind-vector\"><div style=\"border:1px solid grey;padding:2px;\">crypto-random</div><div style=\"border:1px solid grey;padding:2px;\">1.2.0</div></div></div><div style=\"border:1px solid grey;padding:2px;\"></div><div style=\"border:1px solid grey;padding:2px;\"><div class=\"kind-vector\"><div style=\"border:1px solid grey;padding:2px;\">javax.servlet/javax.servlet-api</div><div style=\"border:1px solid grey;padding:2px;\">3.1.0</div></div></div><div style=\"border:1px solid grey;padding:2px;\"></div><div style=\"border:1px solid grey;padding:2px;\"><div class=\"kind-vector\"><div style=\"border:1px solid grey;padding:2px;\">riddley</div><div style=\"border:1px solid grey;padding:2px;\">0.1.12</div></div></div><div style=\"border:1px solid grey;padding:2px;\"></div><div style=\"border:1px solid grey;padding:2px;\"><div class=\"kind-vector\"><div style=\"border:1px solid grey;padding:2px;\">com.cognitect/transit-cljs</div><div style=\"border:1px solid grey;padding:2px;\">0.8.256</div></div></div><div style=\"border:1px solid grey;padding:2px;\"><div class=\"kind-set\"><div style=\"border:1px solid grey;padding:2px;\"><div class=\"kind-vector\"><div style=\"border:1px solid grey;padding:2px;\">com.cognitect/transit-js</div><div style=\"border:1px solid grey;padding:2px;\">0.8.846</div></div></div></div></div><div style=\"border:1px solid grey;padding:2px;\"><div class=\"kind-vector\"><div style=\"border:1px solid grey;padding:2px;\">commons-fileupload</div><div style=\"border:1px solid grey;padding:2px;\">1.4</div></div></div><div style=\"border:1px solid grey;padding:2px;\"></div><div style=\"border:1px solid grey;padding:2px;\"><div class=\"kind-vector\"><div style=\"border:1px solid grey;padding:2px;\">org.mozilla/rhino</div><div style=\"border:1px solid grey;padding:2px;\">1.7R5</div></div></div><div style=\"border:1px solid grey;padding:2px;\"></div><div style=\"border:1px solid grey;padding:2px;\"><div class=\"kind-vector\"><div style=\"border:1px solid grey;padding:2px;\">cljsjs/react-dom</div><div style=\"border:1px solid grey;padding:2px;\">16.13.0-0</div></div></div><div style=\"border:1px solid grey;padding:2px;\"></div><div style=\"border:1px solid grey;padding:2px;\"><div class=\"kind-vector\"><div style=\"border:1px solid grey;padding:2px;\">com.andrewmcveigh/cljs-time</div><div style=\"border:1px solid grey;padding:2px;\">0.5.2</div></div></div><div style=\"border:1px solid grey;padding:2px;\"></div><div style=\"border:1px solid grey;padding:2px;\"><div class=\"kind-vector\"><div style=\"border:1px solid grey;padding:2px;\">com.google.guava/guava</div><div style=\"border:1px solid grey;padding:2px;\">25.1-jre</div></div></div><div style=\"border:1px solid grey;padding:2px;\"><div class=\"kind-set\"><div style=\"border:1px solid grey;padding:2px;\"><div class=\"kind-vector\"><div style=\"border:1px solid grey;padding:2px;\">org.checkerframework/checker-qual</div><div style=\"border:1px solid grey;padding:2px;\">2.0.0</div></div></div><div style=\"border:1px solid grey;padding:2px;\"><div class=\"kind-vector\"><div style=\"border:1px solid grey;padding:2px;\">org.codehaus.mojo/animal-sniffer-annotations</div><div style=\"border:1px solid grey;padding:2px;\">1.14</div></div></div><div style=\"border:1px solid grey;padding:2px;\"><div class=\"kind-vector\"><div style=\"border:1px solid grey;padding:2px;\">com.google.j2objc/j2objc-annotations</div><div style=\"border:1px solid grey;padding:2px;\">1.1</div></div></div></div></div><div style=\"border:1px solid grey;padding:2px;\"><div class=\"kind-vector\"><div style=\"border:1px solid grey;padding:2px;\">ring/ring-anti-forgery</div><div style=\"border:1px solid grey;padding:2px;\">1.3.0</div></div></div><div style=\"border:1px solid grey;padding:2px;\"><div class=\"kind-set\"><div style=\"border:1px solid grey;padding:2px;\"><div class=\"kind-vector\"><div style=\"border:1px solid grey;padding:2px;\">hiccup</div><div style=\"border:1px solid grey;padding:2px;\">1.0.5</div></div></div></div></div><div style=\"border:1px solid grey;padding:2px;\"><div class=\"kind-vector\"><div style=\"border:1px solid grey;padding:2px;\">ring-cljsjs</div><div style=\"border:1px solid grey;padding:2px;\">0.2.0</div></div></div><div style=\"border:1px solid grey;padding:2px;\"></div><div style=\"border:1px solid grey;padding:2px;\"><div class=\"kind-vector\"><div style=\"border:1px solid grey;padding:2px;\">org.javassist/javassist</div><div style=\"border:1px solid grey;padding:2px;\">3.18.1-GA</div></div></div><div style=\"border:1px solid grey;padding:2px;\"></div><div style=\"border:1px solid grey;padding:2px;\"><div class=\"kind-vector\"><div style=\"border:1px solid grey;padding:2px;\">cljsjs/react-dom-server</div><div style=\"border:1px solid grey;padding:2px;\">16.13.0-0</div></div></div><div style=\"border:1px solid grey;padding:2px;\"></div><div style=\"border:1px solid grey;padding:2px;\"><div class=\"kind-vector\"><div style=\"border:1px solid grey;padding:2px;\">re-com</div><div style=\"border:1px solid grey;padding:2px;\">2.13.2</div></div></div><div style=\"border:1px solid grey;padding:2px;\"></div><div style=\"border:1px solid grey;padding:2px;\"><div class=\"kind-vector\"><div style=\"border:1px solid grey;padding:2px;\">reagent</div><div style=\"border:1px solid grey;padding:2px;\">0.10.0</div></div></div><div style=\"border:1px solid grey;padding:2px;\"><div class=\"kind-set\"><div style=\"border:1px solid grey;padding:2px;\"><div class=\"kind-vector\"><div style=\"border:1px solid grey;padding:2px;\">cljsjs/react-dom</div><div style=\"border:1px solid grey;padding:2px;\">16.13.0-0</div></div></div><div style=\"border:1px solid grey;padding:2px;\"><div class=\"kind-vector\"><div style=\"border:1px solid grey;padding:2px;\">cljsjs/react-dom-server</div><div style=\"border:1px solid grey;padding:2px;\">16.13.0-0</div></div></div><div style=\"border:1px solid grey;padding:2px;\"><div class=\"kind-vector\"><div style=\"border:1px solid grey;padding:2px;\">cljsjs/react</div><div style=\"border:1px solid grey;padding:2px;\">16.13.0-0</div></div></div></div></div><div style=\"border:1px solid grey;padding:2px;\"><div class=\"kind-vector\"><div style=\"border:1px solid grey;padding:2px;\">org.clojure/clojurescript</div><div style=\"border:1px solid grey;padding:2px;\">1.10.439</div></div></div><div style=\"border:1px solid grey;padding:2px;\"><div class=\"kind-set\"><div style=\"border:1px solid grey;padding:2px;\"><div class=\"kind-vector\"><div style=\"border:1px solid grey;padding:2px;\">org.clojure/google-closure-library</div><div style=\"border:1px solid grey;padding:2px;\">0.0-20170809-b9c14c6b</div></div></div><div style=\"border:1px solid grey;padding:2px;\"><div class=\"kind-vector\"><div style=\"border:1px solid grey;padding:2px;\">org.clojure/tools.reader</div><div style=\"border:1px solid grey;padding:2px;\">1.3.0</div></div></div><div style=\"border:1px solid grey;padding:2px;\"><div class=\"kind-vector\"><div style=\"border:1px solid grey;padding:2px;\">com.google.javascript/closure-compiler-unshaded</div><div style=\"border:1px solid grey;padding:2px;\">v20180805</div></div></div><div style=\"border:1px solid grey;padding:2px;\"><div class=\"kind-vector\"><div style=\"border:1px solid grey;padding:2px;\">org.clojure/data.json</div><div style=\"border:1px solid grey;padding:2px;\">0.2.6</div></div></div><div style=\"border:1px solid grey;padding:2px;\"><div class=\"kind-vector\"><div style=\"border:1px solid grey;padding:2px;\">com.cognitect/transit-clj</div><div style=\"border:1px solid grey;padding:2px;\">0.8.309</div><div style=\"border:1px solid grey;padding:2px;\">:exclusions</div><div style=\"border:1px solid grey;padding:2px;\"><div class=\"kind-vector\"><div style=\"border:1px solid grey;padding:2px;\"><div class=\"kind-vector\"><div style=\"border:1px solid grey;padding:2px;\">org.clojure/clojure</div></div></div></div></div></div></div><div style=\"border:1px solid grey;padding:2px;\"><div class=\"kind-vector\"><div style=\"border:1px solid grey;padding:2px;\">org.mozilla/rhino</div><div style=\"border:1px solid grey;padding:2px;\">1.7R5</div></div></div></div></div><div style=\"border:1px solid grey;padding:2px;\"><div class=\"kind-vector\"><div style=\"border:1px solid grey;padding:2px;\">medley</div><div style=\"border:1px solid grey;padding:2px;\">1.3.0</div></div></div><div style=\"border:1px solid grey;padding:2px;\"></div><div style=\"border:1px solid grey;padding:2px;\"><div class=\"kind-vector\"><div style=\"border:1px solid grey;padding:2px;\">cljsjs/vega-embed</div><div style=\"border:1px solid grey;padding:2px;\">6.19.0-0</div></div></div><div style=\"border:1px solid grey;padding:2px;\"></div><div style=\"border:1px solid grey;padding:2px;\"><div class=\"kind-vector\"><div style=\"border:1px solid grey;padding:2px;\">http.async.client</div><div style=\"border:1px solid grey;padding:2px;\">1.2.0</div></div></div><div style=\"border:1px solid grey;padding:2px;\"><div class=\"kind-set\"><div style=\"border:1px solid grey;padding:2px;\"><div class=\"kind-vector\"><div style=\"border:1px solid grey;padding:2px;\">com.ning/async-http-client</div><div style=\"border:1px solid grey;padding:2px;\">1.9.39</div></div></div><div style=\"border:1px solid grey;padding:2px;\"><div class=\"kind-vector\"><div style=\"border:1px solid grey;padding:2px;\">org.clojure/tools.logging</div><div style=\"border:1px solid grey;padding:2px;\">0.3.1</div></div></div></div></div><div style=\"border:1px solid grey;padding:2px;\"><div class=\"kind-vector\"><div style=\"border:1px solid grey;padding:2px;\">cljsjs/react</div><div style=\"border:1px solid grey;padding:2px;\">16.13.0-0</div></div></div><div style=\"border:1px solid grey;padding:2px;\"></div><div style=\"border:1px solid grey;padding:2px;\"><div class=\"kind-vector\"><div style=\"border:1px solid grey;padding:2px;\">commons-codec</div><div style=\"border:1px solid grey;padding:2px;\">1.10</div></div></div><div style=\"border:1px solid grey;padding:2px;\"></div></div>"
            ]
          },
          "metadata": {},
          "execution_count": 67
        }
      ]
    },
    {
      "cell_type": "code",
      "source": [
        "(require '[tablecloth.api :as tc]\n",
        "         '[clojure.string :as str]\n",
        "         '[scicloj.tableplot.v1.hanami :as hanami]\n",
        "         '[aerial.hanami.templates :as ht]\n",
        "         '[scicloj.kindly.v4.kind :as kd]\n",
        "         '[cheshire.core :as json]\n",
        "         '[hiccup2.core :refer [html]])"
      ],
      "metadata": {
        "colab": {
          "base_uri": "https://localhost:8080/"
        },
        "id": "ASlqS0aIwTV-",
        "outputId": "1eb9ec9f-c158-4d76-adc2-8237420d168b"
      },
      "execution_count": null,
      "outputs": [
        {
          "output_type": "execute_result",
          "data": {
            "text/plain": [
              "nil"
            ]
          },
          "metadata": {},
          "execution_count": 68
        }
      ]
    },
    {
      "cell_type": "code",
      "source": [
        "(defn show [vega-lite-spec]\n",
        " ;; Need to manually embedd Vega lite spec so Colab can display it\n",
        "  (let [json-spec (json/generate-string vega-lite-spec)]\n",
        "    (display/hiccup-html\n",
        "      [:html\n",
        "       [:head\n",
        "        [:title \"Embedding Vega-Lite\"]\n",
        "        [:script {:src \"https://cdn.jsdelivr.net/npm/vega@5.30.0\"}]\n",
        "        [:script {:src \"https://cdn.jsdelivr.net/npm/vega-lite@5.21.0\"}]\n",
        "        [:script {:src \"https://cdn.jsdelivr.net/npm/vega-embed@6.26.0\"}]]\n",
        "       [:body\n",
        "        [:div {:id \"vis\"}]\n",
        "        [:script {:type \"text/javascript\"}\n",
        "         (str \"var yourVlSpec = \" json-spec \";\n",
        "               vegaEmbed('#vis', yourVlSpec);\")]]])))"
      ],
      "metadata": {
        "colab": {
          "base_uri": "https://localhost:8080/"
        },
        "id": "adF9sRRc3NnF",
        "outputId": "0d02b51b-f1f2-4bc3-c201-ecbc486a5c1a"
      },
      "execution_count": null,
      "outputs": [
        {
          "output_type": "execute_result",
          "data": {
            "text/plain": [
              "#'user/show"
            ]
          },
          "metadata": {},
          "execution_count": 69
        }
      ]
    },
    {
      "cell_type": "code",
      "source": [
        "(defn fetch-dataset [dataset-name]\n",
        "  (-> dataset-name\n",
        "      (->> (format \"https://vincentarelbundock.github.io/Rdatasets/csv/%s.csv\"))\n",
        "      (tc/dataset {:key-fn (fn [k]\n",
        "                             (-> k\n",
        "                                 str/lower-case\n",
        "                                 (str/replace #\"\\.\" \"-\")\n",
        "                                 keyword))})\n",
        "      (tc/set-dataset-name dataset-name)))"
      ],
      "metadata": {
        "colab": {
          "base_uri": "https://localhost:8080/"
        },
        "id": "Sx0FO189w5Q9",
        "outputId": "172d127c-56e6-4740-d5b4-480e6a90ac5e"
      },
      "execution_count": null,
      "outputs": [
        {
          "output_type": "execute_result",
          "data": {
            "text/plain": [
              "#'user/fetch-dataset"
            ]
          },
          "metadata": {},
          "execution_count": 70
        }
      ]
    },
    {
      "cell_type": "code",
      "source": [
        "(defonce iris\n",
        "  (fetch-dataset \"datasets/iris\"))"
      ],
      "metadata": {
        "colab": {
          "base_uri": "https://localhost:8080/"
        },
        "id": "jy9DHFLUw-Zw",
        "outputId": "fd020267-941f-4c0a-a46b-0611ee044f64"
      },
      "execution_count": null,
      "outputs": [
        {
          "output_type": "execute_result",
          "data": {
            "text/plain": [
              "nil"
            ]
          },
          "metadata": {},
          "execution_count": 71
        }
      ]
    },
    {
      "cell_type": "code",
      "source": [
        "(tc/head iris)"
      ],
      "metadata": {
        "colab": {
          "base_uri": "https://localhost:8080/",
          "height": 177
        },
        "id": "-V6NGJJPxCWL",
        "outputId": "edcfa4b0-6cc5-4161-88df-0b49fa48a4b4"
      },
      "execution_count": null,
      "outputs": [
        {
          "output_type": "execute_result",
          "data": {
            "text/html": [
              "<div class=\"kind-dataset\"><p>datasets/iris [5 6]:</p><table><thead><tr><th style=\"text-align:right;\">:rownames</th><th style=\"text-align:right;\">:sepal-length</th><th style=\"text-align:right;\">:sepal-width</th><th style=\"text-align:right;\">:petal-length</th><th style=\"text-align:right;\">:petal-width</th><th>:species</th></tr></thead><tbody><tr><td style=\"text-align:right;\">1</td><td style=\"text-align:right;\">5.1</td><td style=\"text-align:right;\">3.5</td><td style=\"text-align:right;\">1.4</td><td style=\"text-align:right;\">0.2</td><td>setosa</td></tr><tr><td style=\"text-align:right;\">2</td><td style=\"text-align:right;\">4.9</td><td style=\"text-align:right;\">3.0</td><td style=\"text-align:right;\">1.4</td><td style=\"text-align:right;\">0.2</td><td>setosa</td></tr><tr><td style=\"text-align:right;\">3</td><td style=\"text-align:right;\">4.7</td><td style=\"text-align:right;\">3.2</td><td style=\"text-align:right;\">1.3</td><td style=\"text-align:right;\">0.2</td><td>setosa</td></tr><tr><td style=\"text-align:right;\">4</td><td style=\"text-align:right;\">4.6</td><td style=\"text-align:right;\">3.1</td><td style=\"text-align:right;\">1.5</td><td style=\"text-align:right;\">0.2</td><td>setosa</td></tr><tr><td style=\"text-align:right;\">5</td><td style=\"text-align:right;\">5.0</td><td style=\"text-align:right;\">3.6</td><td style=\"text-align:right;\">1.4</td><td style=\"text-align:right;\">0.2</td><td>setosa</td></tr></tbody></table></div>"
            ]
          },
          "metadata": {},
          "execution_count": 72
        }
      ]
    },
    {
      "cell_type": "code",
      "source": [
        "(-> iris\n",
        "    (hanami/plot hanami/point-chart\n",
        "                 {:=x :sepal-width\n",
        "                  :=y :sepal-length\n",
        "                  :=color :species\n",
        "                  :=mark-size 200})\n",
        "    show)"
      ],
      "metadata": {
        "colab": {
          "base_uri": "https://localhost:8080/",
          "height": 369
        },
        "id": "GFCtlh7E2PyF",
        "outputId": "c4ca50ce-675c-4c82-9857-c0fe0d1717a3"
      },
      "execution_count": null,
      "outputs": [
        {
          "output_type": "execute_result",
          "data": {
            "text/html": [
              "<html><head><title>Embedding Vega-Lite</title><script src=\"https://cdn.jsdelivr.net/npm/vega@5.30.0\"></script><script src=\"https://cdn.jsdelivr.net/npm/vega-lite@5.21.0\"></script><script src=\"https://cdn.jsdelivr.net/npm/vega-embed@6.26.0\"></script></head><body><div id=\"vis\"></div><script type=\"text/javascript\">var yourVlSpec = {\"encoding\":{\"color\":{\"field\":\"species\",\"type\":\"nominal\"},\"x\":{\"field\":\"sepal-width\",\"type\":\"quantitative\"},\"y\":{\"field\":\"sepal-length\",\"type\":\"quantitative\"}},\"usermeta\":{\"embedOptions\":{\"renderer\":\"svg\"}},\"mark\":{\"type\":\"circle\",\"size\":200,\"tooltip\":true},\"width\":400,\"background\":\"floralwhite\",\"height\":300,\"data\":{\"values\":\"rownames,sepal-length,sepal-width,petal-length,petal-width,species\\n1,5.1,3.5,1.4,0.2,setosa\\n2,4.9,3.0,1.4,0.2,setosa\\n3,4.7,3.2,1.3,0.2,setosa\\n4,4.6,3.1,1.5,0.2,setosa\\n5,5.0,3.6,1.4,0.2,setosa\\n6,5.4,3.9,1.7,0.4,setosa\\n7,4.6,3.4,1.4,0.3,setosa\\n8,5.0,3.4,1.5,0.2,setosa\\n9,4.4,2.9,1.4,0.2,setosa\\n10,4.9,3.1,1.5,0.1,setosa\\n11,5.4,3.7,1.5,0.2,setosa\\n12,4.8,3.4,1.6,0.2,setosa\\n13,4.8,3.0,1.4,0.1,setosa\\n14,4.3,3.0,1.1,0.1,setosa\\n15,5.8,4.0,1.2,0.2,setosa\\n16,5.7,4.4,1.5,0.4,setosa\\n17,5.4,3.9,1.3,0.4,setosa\\n18,5.1,3.5,1.4,0.3,setosa\\n19,5.7,3.8,1.7,0.3,setosa\\n20,5.1,3.8,1.5,0.3,setosa\\n21,5.4,3.4,1.7,0.2,setosa\\n22,5.1,3.7,1.5,0.4,setosa\\n23,4.6,3.6,1.0,0.2,setosa\\n24,5.1,3.3,1.7,0.5,setosa\\n25,4.8,3.4,1.9,0.2,setosa\\n26,5.0,3.0,1.6,0.2,setosa\\n27,5.0,3.4,1.6,0.4,setosa\\n28,5.2,3.5,1.5,0.2,setosa\\n29,5.2,3.4,1.4,0.2,setosa\\n30,4.7,3.2,1.6,0.2,setosa\\n31,4.8,3.1,1.6,0.2,setosa\\n32,5.4,3.4,1.5,0.4,setosa\\n33,5.2,4.1,1.5,0.1,setosa\\n34,5.5,4.2,1.4,0.2,setosa\\n35,4.9,3.1,1.5,0.2,setosa\\n36,5.0,3.2,1.2,0.2,setosa\\n37,5.5,3.5,1.3,0.2,setosa\\n38,4.9,3.6,1.4,0.1,setosa\\n39,4.4,3.0,1.3,0.2,setosa\\n40,5.1,3.4,1.5,0.2,setosa\\n41,5.0,3.5,1.3,0.3,setosa\\n42,4.5,2.3,1.3,0.3,setosa\\n43,4.4,3.2,1.3,0.2,setosa\\n44,5.0,3.5,1.6,0.6,setosa\\n45,5.1,3.8,1.9,0.4,setosa\\n46,4.8,3.0,1.4,0.3,setosa\\n47,5.1,3.8,1.6,0.2,setosa\\n48,4.6,3.2,1.4,0.2,setosa\\n49,5.3,3.7,1.5,0.2,setosa\\n50,5.0,3.3,1.4,0.2,setosa\\n51,7.0,3.2,4.7,1.4,versicolor\\n52,6.4,3.2,4.5,1.5,versicolor\\n53,6.9,3.1,4.9,1.5,versicolor\\n54,5.5,2.3,4.0,1.3,versicolor\\n55,6.5,2.8,4.6,1.5,versicolor\\n56,5.7,2.8,4.5,1.3,versicolor\\n57,6.3,3.3,4.7,1.6,versicolor\\n58,4.9,2.4,3.3,1.0,versicolor\\n59,6.6,2.9,4.6,1.3,versicolor\\n60,5.2,2.7,3.9,1.4,versicolor\\n61,5.0,2.0,3.5,1.0,versicolor\\n62,5.9,3.0,4.2,1.5,versicolor\\n63,6.0,2.2,4.0,1.0,versicolor\\n64,6.1,2.9,4.7,1.4,versicolor\\n65,5.6,2.9,3.6,1.3,versicolor\\n66,6.7,3.1,4.4,1.4,versicolor\\n67,5.6,3.0,4.5,1.5,versicolor\\n68,5.8,2.7,4.1,1.0,versicolor\\n69,6.2,2.2,4.5,1.5,versicolor\\n70,5.6,2.5,3.9,1.1,versicolor\\n71,5.9,3.2,4.8,1.8,versicolor\\n72,6.1,2.8,4.0,1.3,versicolor\\n73,6.3,2.5,4.9,1.5,versicolor\\n74,6.1,2.8,4.7,1.2,versicolor\\n75,6.4,2.9,4.3,1.3,versicolor\\n76,6.6,3.0,4.4,1.4,versicolor\\n77,6.8,2.8,4.8,1.4,versicolor\\n78,6.7,3.0,5.0,1.7,versicolor\\n79,6.0,2.9,4.5,1.5,versicolor\\n80,5.7,2.6,3.5,1.0,versicolor\\n81,5.5,2.4,3.8,1.1,versicolor\\n82,5.5,2.4,3.7,1.0,versicolor\\n83,5.8,2.7,3.9,1.2,versicolor\\n84,6.0,2.7,5.1,1.6,versicolor\\n85,5.4,3.0,4.5,1.5,versicolor\\n86,6.0,3.4,4.5,1.6,versicolor\\n87,6.7,3.1,4.7,1.5,versicolor\\n88,6.3,2.3,4.4,1.3,versicolor\\n89,5.6,3.0,4.1,1.3,versicolor\\n90,5.5,2.5,4.0,1.3,versicolor\\n91,5.5,2.6,4.4,1.2,versicolor\\n92,6.1,3.0,4.6,1.4,versicolor\\n93,5.8,2.6,4.0,1.2,versicolor\\n94,5.0,2.3,3.3,1.0,versicolor\\n95,5.6,2.7,4.2,1.3,versicolor\\n96,5.7,3.0,4.2,1.2,versicolor\\n97,5.7,2.9,4.2,1.3,versicolor\\n98,6.2,2.9,4.3,1.3,versicolor\\n99,5.1,2.5,3.0,1.1,versicolor\\n100,5.7,2.8,4.1,1.3,versicolor\\n101,6.3,3.3,6.0,2.5,virginica\\n102,5.8,2.7,5.1,1.9,virginica\\n103,7.1,3.0,5.9,2.1,virginica\\n104,6.3,2.9,5.6,1.8,virginica\\n105,6.5,3.0,5.8,2.2,virginica\\n106,7.6,3.0,6.6,2.1,virginica\\n107,4.9,2.5,4.5,1.7,virginica\\n108,7.3,2.9,6.3,1.8,virginica\\n109,6.7,2.5,5.8,1.8,virginica\\n110,7.2,3.6,6.1,2.5,virginica\\n111,6.5,3.2,5.1,2.0,virginica\\n112,6.4,2.7,5.3,1.9,virginica\\n113,6.8,3.0,5.5,2.1,virginica\\n114,5.7,2.5,5.0,2.0,virginica\\n115,5.8,2.8,5.1,2.4,virginica\\n116,6.4,3.2,5.3,2.3,virginica\\n117,6.5,3.0,5.5,1.8,virginica\\n118,7.7,3.8,6.7,2.2,virginica\\n119,7.7,2.6,6.9,2.3,virginica\\n120,6.0,2.2,5.0,1.5,virginica\\n121,6.9,3.2,5.7,2.3,virginica\\n122,5.6,2.8,4.9,2.0,virginica\\n123,7.7,2.8,6.7,2.0,virginica\\n124,6.3,2.7,4.9,1.8,virginica\\n125,6.7,3.3,5.7,2.1,virginica\\n126,7.2,3.2,6.0,1.8,virginica\\n127,6.2,2.8,4.8,1.8,virginica\\n128,6.1,3.0,4.9,1.8,virginica\\n129,6.4,2.8,5.6,2.1,virginica\\n130,7.2,3.0,5.8,1.6,virginica\\n131,7.4,2.8,6.1,1.9,virginica\\n132,7.9,3.8,6.4,2.0,virginica\\n133,6.4,2.8,5.6,2.2,virginica\\n134,6.3,2.8,5.1,1.5,virginica\\n135,6.1,2.6,5.6,1.4,virginica\\n136,7.7,3.0,6.1,2.3,virginica\\n137,6.3,3.4,5.6,2.4,virginica\\n138,6.4,3.1,5.5,1.8,virginica\\n139,6.0,3.0,4.8,1.8,virginica\\n140,6.9,3.1,5.4,2.1,virginica\\n141,6.7,3.1,5.6,2.4,virginica\\n142,6.9,3.1,5.1,2.3,virginica\\n143,5.8,2.7,5.1,1.9,virginica\\n144,6.8,3.2,5.9,2.3,virginica\\n145,6.7,3.3,5.7,2.5,virginica\\n146,6.7,3.0,5.2,2.3,virginica\\n147,6.3,2.5,5.0,1.9,virginica\\n148,6.5,3.0,5.2,2.0,virginica\\n149,6.2,3.4,5.4,2.3,virginica\\n150,5.9,3.0,5.1,1.8,virginica\\n\",\"format\":{\"type\":\"csv\"}}};\n",
              "               vegaEmbed('#vis', yourVlSpec);</script></body></html>"
            ]
          },
          "metadata": {},
          "execution_count": 73
        }
      ]
    },
    {
      "cell_type": "code",
      "source": [
        "(-> iris\n",
        "    (hanami/plot ht/point-chart\n",
        "                {:X :sepal-width\n",
        "                 :Y :sepal-length\n",
        "                 :WIDTH 800\n",
        "                 :HEIGHT 400\n",
        "                 :MSIZE 300\n",
        "                 :COLOR \"species\"})\n",
        "    show)"
      ],
      "metadata": {
        "colab": {
          "base_uri": "https://localhost:8080/",
          "height": 469
        },
        "id": "niQdOqzv2xik",
        "outputId": "9b7a2e1c-9dd3-4ea9-cb0d-47032654e4c4"
      },
      "execution_count": null,
      "outputs": [
        {
          "output_type": "execute_result",
          "data": {
            "text/html": [
              "<html><head><title>Embedding Vega-Lite</title><script src=\"https://cdn.jsdelivr.net/npm/vega@5.30.0\"></script><script src=\"https://cdn.jsdelivr.net/npm/vega-lite@5.21.0\"></script><script src=\"https://cdn.jsdelivr.net/npm/vega-embed@6.26.0\"></script></head><body><div id=\"vis\"></div><script type=\"text/javascript\">var yourVlSpec = {\"encoding\":{\"y\":{\"field\":\"sepal-length\",\"type\":\"quantitative\"},\"color\":{\"field\":\"species\",\"type\":\"nominal\"},\"x\":{\"field\":\"sepal-width\",\"type\":\"quantitative\"}},\"mark\":{\"type\":\"circle\",\"size\":300,\"tooltip\":true},\"width\":800,\"background\":\"floralwhite\",\"height\":400,\"data\":{\"values\":\"rownames,sepal-length,sepal-width,petal-length,petal-width,species\\n1,5.1,3.5,1.4,0.2,setosa\\n2,4.9,3.0,1.4,0.2,setosa\\n3,4.7,3.2,1.3,0.2,setosa\\n4,4.6,3.1,1.5,0.2,setosa\\n5,5.0,3.6,1.4,0.2,setosa\\n6,5.4,3.9,1.7,0.4,setosa\\n7,4.6,3.4,1.4,0.3,setosa\\n8,5.0,3.4,1.5,0.2,setosa\\n9,4.4,2.9,1.4,0.2,setosa\\n10,4.9,3.1,1.5,0.1,setosa\\n11,5.4,3.7,1.5,0.2,setosa\\n12,4.8,3.4,1.6,0.2,setosa\\n13,4.8,3.0,1.4,0.1,setosa\\n14,4.3,3.0,1.1,0.1,setosa\\n15,5.8,4.0,1.2,0.2,setosa\\n16,5.7,4.4,1.5,0.4,setosa\\n17,5.4,3.9,1.3,0.4,setosa\\n18,5.1,3.5,1.4,0.3,setosa\\n19,5.7,3.8,1.7,0.3,setosa\\n20,5.1,3.8,1.5,0.3,setosa\\n21,5.4,3.4,1.7,0.2,setosa\\n22,5.1,3.7,1.5,0.4,setosa\\n23,4.6,3.6,1.0,0.2,setosa\\n24,5.1,3.3,1.7,0.5,setosa\\n25,4.8,3.4,1.9,0.2,setosa\\n26,5.0,3.0,1.6,0.2,setosa\\n27,5.0,3.4,1.6,0.4,setosa\\n28,5.2,3.5,1.5,0.2,setosa\\n29,5.2,3.4,1.4,0.2,setosa\\n30,4.7,3.2,1.6,0.2,setosa\\n31,4.8,3.1,1.6,0.2,setosa\\n32,5.4,3.4,1.5,0.4,setosa\\n33,5.2,4.1,1.5,0.1,setosa\\n34,5.5,4.2,1.4,0.2,setosa\\n35,4.9,3.1,1.5,0.2,setosa\\n36,5.0,3.2,1.2,0.2,setosa\\n37,5.5,3.5,1.3,0.2,setosa\\n38,4.9,3.6,1.4,0.1,setosa\\n39,4.4,3.0,1.3,0.2,setosa\\n40,5.1,3.4,1.5,0.2,setosa\\n41,5.0,3.5,1.3,0.3,setosa\\n42,4.5,2.3,1.3,0.3,setosa\\n43,4.4,3.2,1.3,0.2,setosa\\n44,5.0,3.5,1.6,0.6,setosa\\n45,5.1,3.8,1.9,0.4,setosa\\n46,4.8,3.0,1.4,0.3,setosa\\n47,5.1,3.8,1.6,0.2,setosa\\n48,4.6,3.2,1.4,0.2,setosa\\n49,5.3,3.7,1.5,0.2,setosa\\n50,5.0,3.3,1.4,0.2,setosa\\n51,7.0,3.2,4.7,1.4,versicolor\\n52,6.4,3.2,4.5,1.5,versicolor\\n53,6.9,3.1,4.9,1.5,versicolor\\n54,5.5,2.3,4.0,1.3,versicolor\\n55,6.5,2.8,4.6,1.5,versicolor\\n56,5.7,2.8,4.5,1.3,versicolor\\n57,6.3,3.3,4.7,1.6,versicolor\\n58,4.9,2.4,3.3,1.0,versicolor\\n59,6.6,2.9,4.6,1.3,versicolor\\n60,5.2,2.7,3.9,1.4,versicolor\\n61,5.0,2.0,3.5,1.0,versicolor\\n62,5.9,3.0,4.2,1.5,versicolor\\n63,6.0,2.2,4.0,1.0,versicolor\\n64,6.1,2.9,4.7,1.4,versicolor\\n65,5.6,2.9,3.6,1.3,versicolor\\n66,6.7,3.1,4.4,1.4,versicolor\\n67,5.6,3.0,4.5,1.5,versicolor\\n68,5.8,2.7,4.1,1.0,versicolor\\n69,6.2,2.2,4.5,1.5,versicolor\\n70,5.6,2.5,3.9,1.1,versicolor\\n71,5.9,3.2,4.8,1.8,versicolor\\n72,6.1,2.8,4.0,1.3,versicolor\\n73,6.3,2.5,4.9,1.5,versicolor\\n74,6.1,2.8,4.7,1.2,versicolor\\n75,6.4,2.9,4.3,1.3,versicolor\\n76,6.6,3.0,4.4,1.4,versicolor\\n77,6.8,2.8,4.8,1.4,versicolor\\n78,6.7,3.0,5.0,1.7,versicolor\\n79,6.0,2.9,4.5,1.5,versicolor\\n80,5.7,2.6,3.5,1.0,versicolor\\n81,5.5,2.4,3.8,1.1,versicolor\\n82,5.5,2.4,3.7,1.0,versicolor\\n83,5.8,2.7,3.9,1.2,versicolor\\n84,6.0,2.7,5.1,1.6,versicolor\\n85,5.4,3.0,4.5,1.5,versicolor\\n86,6.0,3.4,4.5,1.6,versicolor\\n87,6.7,3.1,4.7,1.5,versicolor\\n88,6.3,2.3,4.4,1.3,versicolor\\n89,5.6,3.0,4.1,1.3,versicolor\\n90,5.5,2.5,4.0,1.3,versicolor\\n91,5.5,2.6,4.4,1.2,versicolor\\n92,6.1,3.0,4.6,1.4,versicolor\\n93,5.8,2.6,4.0,1.2,versicolor\\n94,5.0,2.3,3.3,1.0,versicolor\\n95,5.6,2.7,4.2,1.3,versicolor\\n96,5.7,3.0,4.2,1.2,versicolor\\n97,5.7,2.9,4.2,1.3,versicolor\\n98,6.2,2.9,4.3,1.3,versicolor\\n99,5.1,2.5,3.0,1.1,versicolor\\n100,5.7,2.8,4.1,1.3,versicolor\\n101,6.3,3.3,6.0,2.5,virginica\\n102,5.8,2.7,5.1,1.9,virginica\\n103,7.1,3.0,5.9,2.1,virginica\\n104,6.3,2.9,5.6,1.8,virginica\\n105,6.5,3.0,5.8,2.2,virginica\\n106,7.6,3.0,6.6,2.1,virginica\\n107,4.9,2.5,4.5,1.7,virginica\\n108,7.3,2.9,6.3,1.8,virginica\\n109,6.7,2.5,5.8,1.8,virginica\\n110,7.2,3.6,6.1,2.5,virginica\\n111,6.5,3.2,5.1,2.0,virginica\\n112,6.4,2.7,5.3,1.9,virginica\\n113,6.8,3.0,5.5,2.1,virginica\\n114,5.7,2.5,5.0,2.0,virginica\\n115,5.8,2.8,5.1,2.4,virginica\\n116,6.4,3.2,5.3,2.3,virginica\\n117,6.5,3.0,5.5,1.8,virginica\\n118,7.7,3.8,6.7,2.2,virginica\\n119,7.7,2.6,6.9,2.3,virginica\\n120,6.0,2.2,5.0,1.5,virginica\\n121,6.9,3.2,5.7,2.3,virginica\\n122,5.6,2.8,4.9,2.0,virginica\\n123,7.7,2.8,6.7,2.0,virginica\\n124,6.3,2.7,4.9,1.8,virginica\\n125,6.7,3.3,5.7,2.1,virginica\\n126,7.2,3.2,6.0,1.8,virginica\\n127,6.2,2.8,4.8,1.8,virginica\\n128,6.1,3.0,4.9,1.8,virginica\\n129,6.4,2.8,5.6,2.1,virginica\\n130,7.2,3.0,5.8,1.6,virginica\\n131,7.4,2.8,6.1,1.9,virginica\\n132,7.9,3.8,6.4,2.0,virginica\\n133,6.4,2.8,5.6,2.2,virginica\\n134,6.3,2.8,5.1,1.5,virginica\\n135,6.1,2.6,5.6,1.4,virginica\\n136,7.7,3.0,6.1,2.3,virginica\\n137,6.3,3.4,5.6,2.4,virginica\\n138,6.4,3.1,5.5,1.8,virginica\\n139,6.0,3.0,4.8,1.8,virginica\\n140,6.9,3.1,5.4,2.1,virginica\\n141,6.7,3.1,5.6,2.4,virginica\\n142,6.9,3.1,5.1,2.3,virginica\\n143,5.8,2.7,5.1,1.9,virginica\\n144,6.8,3.2,5.9,2.3,virginica\\n145,6.7,3.3,5.7,2.5,virginica\\n146,6.7,3.0,5.2,2.3,virginica\\n147,6.3,2.5,5.0,1.9,virginica\\n148,6.5,3.0,5.2,2.0,virginica\\n149,6.2,3.4,5.4,2.3,virginica\\n150,5.9,3.0,5.1,1.8,virginica\\n\",\"format\":{\"type\":\"csv\"}}};\n",
              "               vegaEmbed('#vis', yourVlSpec);</script></body></html>"
            ]
          },
          "metadata": {},
          "execution_count": 77
        }
      ]
    },
    {
      "cell_type": "code",
      "source": [],
      "metadata": {
        "id": "qBdCcDgS3xip"
      },
      "execution_count": null,
      "outputs": []
    }
  ]
}